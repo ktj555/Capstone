{
 "cells": [
  {
   "cell_type": "code",
   "execution_count": 2,
   "metadata": {},
   "outputs": [],
   "source": [
    "import numpy as np"
   ]
  },
  {
   "cell_type": "code",
   "execution_count": 3,
   "metadata": {},
   "outputs": [],
   "source": [
    "def TDMA(a,b,c,d,n):\n",
    "    def p(index):\n",
    "        if(index==1):\n",
    "            return -c(1)/a(1)\n",
    "        elif(index==n):\n",
    "            return 0\n",
    "        else:\n",
    "            return -c(index)/(a(index)+b(index)*p(index-1))\n",
    "        \n",
    "    def q(index):\n",
    "        if(index==1):\n",
    "            return d(1)/a(1)\n",
    "        else:\n",
    "            return (d(index)-b(index)*q(index-1))/(a(index)+b(index)*p(index-1))\n",
    "    \n",
    "    x = np.zeros(n)\n",
    "    x[n-1] = q(n)\n",
    "    for i in range(n-1,2,-1):\n",
    "        print(p(i),q(i))\n",
    "        x[i-1] = p(i) * x[i] + q(i)\n",
    "    x[0] = p(1)*x[1]+q(1)\n",
    "    return x"
   ]
  },
  {
   "cell_type": "code",
   "execution_count": 4,
   "metadata": {},
   "outputs": [
    {
     "ename": "",
     "evalue": "",
     "output_type": "error",
     "traceback": [
      "\u001b[1;31mCannot execute code, session has been disposed. Please try restarting the Kernel."
     ]
    },
    {
     "ename": "",
     "evalue": "",
     "output_type": "error",
     "traceback": [
      "\u001b[1;31mThe Kernel crashed while executing code in the the current cell or a previous cell. Please review the code in the cell(s) to identify a possible cause of the failure. Click <a href='https://aka.ms/vscodeJupyterKernelCrash'>here</a> for more info. View Jupyter <a href='command:jupyter.viewOutput'>log</a> for further details."
     ]
    }
   ],
   "source": [
    "def a(n):\n",
    "    return 2\n",
    "\n",
    "def b(n):\n",
    "    if(n==1):\n",
    "        return 0\n",
    "    else:\n",
    "        return -1\n",
    "    \n",
    "def c(n):\n",
    "    if(n==5):\n",
    "        return 0\n",
    "    else:\n",
    "        return -1\n",
    "    \n",
    "def d(n):\n",
    "    if(n==5):\n",
    "        return 6\n",
    "    else:\n",
    "        return 0\n",
    "    \n",
    "TDMA(a,b,c,d,5)"
   ]
  },
  {
   "cell_type": "code",
   "execution_count": 1,
   "metadata": {},
   "outputs": [],
   "source": [
    "import sympy"
   ]
  },
  {
   "cell_type": "code",
   "execution_count": 9,
   "metadata": {},
   "outputs": [],
   "source": [
    "x = sympy.symbols('x')\n",
    "a,b,c,d = sympy.symbols('a b c d')\n",
    "# 24.141e-6 * pow(10, 247.8 / (T - 140))\n",
    "f = a*b**(c/(x-d))\n",
    "\n",
    "df = sympy.diff(f,x)"
   ]
  },
  {
   "cell_type": "code",
   "execution_count": 11,
   "metadata": {},
   "outputs": [
    {
     "data": {
      "text/latex": [
       "$\\displaystyle - \\frac{c \\log{\\left(b \\right)}}{\\left(- d + x\\right)^{2}}$"
      ],
      "text/plain": [
       "-c*log(b)/(-d + x)**2"
      ]
     },
     "execution_count": 11,
     "metadata": {},
     "output_type": "execute_result"
    }
   ],
   "source": [
    "df/f"
   ]
  },
  {
   "cell_type": "code",
   "execution_count": 18,
   "metadata": {},
   "outputs": [],
   "source": [
    "T, P = sympy.symbols('T P')\n",
    "\n",
    "mu_l = sympy.Function('mu_l')(T,P)\n",
    "rho_l = sympy.Function('rho_l')(T,P)\n",
    "\n",
    "nu_l = mu_l/rho_l\n",
    "dnu_l = sympy.diff(nu_l,T)"
   ]
  },
  {
   "cell_type": "code",
   "execution_count": 21,
   "metadata": {},
   "outputs": [
    {
     "data": {
      "text/latex": [
       "$\\displaystyle - \\frac{\\mu_{l}{\\left(T,P \\right)} \\frac{\\partial}{\\partial T} \\rho_{l}{\\left(T,P \\right)}}{\\rho_{l}^{2}{\\left(T,P \\right)}} + \\frac{\\frac{\\partial}{\\partial T} \\mu_{l}{\\left(T,P \\right)}}{\\rho_{l}{\\left(T,P \\right)}}$"
      ],
      "text/plain": [
       "-mu_l(T, P)*Derivative(rho_l(T, P), T)/rho_l(T, P)**2 + Derivative(mu_l(T, P), T)/rho_l(T, P)"
      ]
     },
     "execution_count": 21,
     "metadata": {},
     "output_type": "execute_result"
    }
   ],
   "source": [
    "dnu_l"
   ]
  },
  {
   "cell_type": "code",
   "execution_count": 24,
   "metadata": {},
   "outputs": [],
   "source": [
    "nu_l,nu_v,S = sympy.symbols('nu_l nu_v S')\n",
    "k_rl = sympy.Function('k_rl')(S)\n",
    "k_rv = sympy.Function('k_rv')(S)\n",
    "\n",
    "nu = 1 / (k_rl/nu_l + k_rv/nu_v)\n",
    "dnu = sympy.diff(nu,S)"
   ]
  },
  {
   "cell_type": "code",
   "execution_count": 25,
   "metadata": {},
   "outputs": [
    {
     "data": {
      "text/latex": [
       "$\\displaystyle \\frac{- \\frac{\\frac{d}{d S} k_{rv}{\\left(S \\right)}}{\\nu_{v}} - \\frac{\\frac{d}{d S} k_{rl}{\\left(S \\right)}}{\\nu_{l}}}{\\left(\\frac{k_{rv}{\\left(S \\right)}}{\\nu_{v}} + \\frac{k_{rl}{\\left(S \\right)}}{\\nu_{l}}\\right)^{2}}$"
      ],
      "text/plain": [
       "(-Derivative(k_rv(S), S)/nu_v - Derivative(k_rl(S), S)/nu_l)/(k_rv(S)/nu_v + k_rl(S)/nu_l)**2"
      ]
     },
     "execution_count": 25,
     "metadata": {},
     "output_type": "execute_result"
    }
   ],
   "source": [
    "dnu"
   ]
  },
  {
   "cell_type": "code",
   "execution_count": 26,
   "metadata": {},
   "outputs": [
    {
     "data": {
      "text/latex": [
       "$\\displaystyle \\frac{1}{\\left(\\frac{k_{rv}{\\left(S \\right)}}{\\nu_{v}} + \\frac{k_{rl}{\\left(S \\right)}}{\\nu_{l}}\\right)^{2}}$"
      ],
      "text/plain": [
       "(k_rv(S)/nu_v + k_rl(S)/nu_l)**(-2)"
      ]
     },
     "execution_count": 26,
     "metadata": {},
     "output_type": "execute_result"
    }
   ],
   "source": [
    "nu**2"
   ]
  },
  {
   "cell_type": "code",
   "execution_count": 1,
   "metadata": {},
   "outputs": [],
   "source": [
    "import numpy as np"
   ]
  },
  {
   "cell_type": "code",
   "execution_count": 15,
   "metadata": {},
   "outputs": [],
   "source": [
    "def lg(phi,x):\n",
    "    d = np.array([[x[0]-x[1]],\n",
    "                  [x[2]-x[1]]])\n",
    "    dt = np.transpose(d)\n",
    "    g = np.dot(dt,d)\n",
    "    dphi = np.array([[phi[0]-phi[1]],\n",
    "                     [phi[2]-phi[1]]])\n",
    "    return np.dot(dt,dphi)/g"
   ]
  },
  {
   "cell_type": "code",
   "execution_count": 25,
   "metadata": {},
   "outputs": [
    {
     "data": {
      "text/plain": [
       "(-0.35017548837401463, -0.4161468365471424)"
      ]
     },
     "execution_count": 25,
     "metadata": {},
     "output_type": "execute_result"
    }
   ],
   "source": [
    "def f(x):\n",
    "    return np.sin(x)\n",
    "\n",
    "def df(x):\n",
    "    return np.cos(x)\n",
    "\n",
    "x = np.array([1,2,3])\n",
    "phi = f(x)\n",
    "\n",
    "lg(phi,x)[0][0],df(x[1])"
   ]
  },
  {
   "cell_type": "code",
   "execution_count": 15,
   "metadata": {},
   "outputs": [],
   "source": [
    "def rho_l(T,P):\n",
    "  return 998.0\n",
    "def drho_ldT(T,P):\n",
    "  return 0\n",
    "def mu_l(T,P):\n",
    "  return 24.141e-6 * 10**(247.8 / (T - 140))\n",
    "def dmu_ldT(T,P):\n",
    "  return -mu_l(T,P)*247.8/(T-140)**2*np.log(10)\n",
    "def nu_l(T,P):\n",
    "  return mu_l(T,P)/rho_l(T,P)\n",
    "def dnu_ldT(T,P):\n",
    "  return (dmu_ldT(T,P)*rho_l(T,P)-mu_l(T,P)*drho_ldT(T,P))/rho_l(T,P)**2\n",
    "def k_l(T,P):\n",
    "  return 0.68\n",
    "def dk_ldT(T,P):\n",
    "  return 0\n",
    "def cp_l(T,P):\n",
    "  return 4182.0\n",
    "def dcp_ldT(T,P):\n",
    "  return 0\n",
    "\n",
    "def rho_v(T,P):\n",
    "  R, M = 8.314, 18\n",
    "  return P/(T*R/M*1000)\n",
    "def drho_vdT(T,P):\n",
    "  return -rho_v(T,P)/T\n",
    "def mu_v(T,P):\n",
    "  a0 = -2.77567e-6\n",
    "  a1 = 0.04035e-6\n",
    "  return a0+a1*T\n",
    "def dmu_vdT(T,P):\n",
    "  return 0.04035e-6\n",
    "def nu_v(T,P):\n",
    "  return mu_v(T,P)/rho_v(T,P)\n",
    "def dnu_vdT(T,P):\n",
    "  return (dmu_vdT(T,P)*rho_v(T,P)-mu_v(T,P)*drho_vdT(T,P))/rho_v(T,P)**2\n",
    "def k_v(T,P):\n",
    "  a0 = -21.994433e-3\n",
    "  a1 = 0.11842e-3\n",
    "  return a0 + a1 * T\n",
    "def dk_vdT(T,P):\n",
    "  return 0.11842e-3\n",
    "def cp_v(T,P):\n",
    "  return 2030.0\n",
    "def dcp_vdT(T,P):\n",
    "  return 0\n",
    "\n",
    "def rho_s(T):\n",
    "  return 8.4e3\n",
    "def k_s(T):\n",
    "  return 21.7\n",
    "def cp_s(T):\n",
    "  return 625\n",
    "\n",
    "def T_sat(P):\n",
    "  p=P/1e6\n",
    "  a0 = 429.69474687605754\n",
    "  a1 = 11.983108526790891\n",
    "  a2 = -0.2940193901122584\n",
    "  a3 = 25.197563642164386\n",
    "  return a0 + a1 * p + a2 * p**2 + a3 * np.log(p)\n",
    "def dT_satdP(P):\n",
    "  p=P/1e6\n",
    "  a1 = 11.983108526790891\n",
    "  a2 = -0.2940193901122584\n",
    "  a3 = 25.197563642164386\n",
    "  return (a1 + 2 * a2 * p + a3 / p) / 1e6\n",
    "def h_fg(P):\n",
    "\tT = T_sat(P)\n",
    "\ta0 = -2511.1589762597114\n",
    "\ta1 = 1.790037469059945\n",
    "\ta2 = 0.0028969464729942194\n",
    "\ta3 = 222.03437607975306\n",
    "\treturn a0 + a1 * T + a2 * T**2 + a3 * np.sqrt(650 - T)\n",
    "def h_l_sat(P):\n",
    "  T=T_sat(P)\n",
    "  return cp_l(T,P)*T\n",
    "def h_v_sat(P):\n",
    "  return h_l_sat(P)+h_fg(P)\n",
    "\n",
    "def h_to_T(h,P):\n",
    "  h_m_s1=h_l_sat(P)\n",
    "  h_m_s0=h_v_sat(P)\n",
    "  T=T_sat(P)\n",
    "  if(h<h_m_s1):\n",
    "    return h/cp_l(T,P)\n",
    "  elif(h>h_m_s0):\n",
    "    return T+(h-h_m_s0)/cp_v(T,P)\n",
    "  else:\n",
    "    return T\n",
    "def h_to_S(h,P):\n",
    "  h_m_s1=h_l_sat(P)\n",
    "  h_m_s0=h_v_sat(P)\n",
    "  T=T_sat(P)\n",
    "  if(h<=h_m_s1):\n",
    "    return 1\n",
    "  elif(h>=h_m_s0):\n",
    "    return 0\n",
    "  else:\n",
    "    nu_r,h_r = nu_v(T,P)/nu_l(T,P), h_fg(P)/(h_m_s0-h)\n",
    "    return 1/((nu_r*(h_r-1))**(0.33)+1)\n",
    "\n",
    "def k_rl(S):\n",
    "  return S**3\n",
    "def dk_rldS(S):\n",
    "  return 3*S**2\n",
    "def k_rv(S):\n",
    "  return (1-S)**3\n",
    "def dk_rvdS(S):\n",
    "  return -3*(1-S)**2\n",
    "def rho(h,P):\n",
    "  h_s1 = h_l_sat(P)\n",
    "  h_s0 = h_v_sat(P)\n",
    "  T = h_to_T(h,P)\n",
    "  S = h_to_S(h,P)\n",
    "  if(h<=h_s1):\n",
    "    return rho_l(T,P)\n",
    "  elif(h>=h_s0):\n",
    "    return rho_v(T,P)\n",
    "  else:\n",
    "      return rho_l(T,P)*S+rho_v(T,P)*(1-S)\n",
    "def drhodS(h,P):\n",
    "  h_s1 = h_l_sat(P)\n",
    "  h_s0 = h_v_sat(P)\n",
    "  T = h_to_T(h,P)\n",
    "  S = h_to_S(h,P)\n",
    "  if(h<=h_s1) or (h>=h_s0):\n",
    "    return 0\n",
    "  else:\n",
    "    return rho_l(T,P) - rho_v(T,P)\n",
    "def nu(h,P):\n",
    "  h_s1 = h_l_sat(P)\n",
    "  h_s0 = h_v_sat(P)\n",
    "  T = h_to_T(h,P)\n",
    "  S = h_to_S(h,P)\n",
    "  if(h<=h_s1):\n",
    "    return nu_l(T,P)\n",
    "  elif(h>=h_s0):\n",
    "    return nu_v(T,P)\n",
    "  else:\n",
    "    return 1/(k_rl(S)/nu_l(T,P)+k_rv(S)/nu_v(T,P))\n",
    "def dnudS(h,P):\n",
    "  h_s1 = h_l_sat(P)\n",
    "  h_s0 = h_v_sat(P)\n",
    "  T = h_to_T(h,P)\n",
    "  S = h_to_S(h,P)\n",
    "  if(h<=h_s1) or (h>=h_s0):\n",
    "    return 0\n",
    "  else:\n",
    "    return -nu(h,P)**2*(dk_rldS(S)/nu_l(T,P)+dk_rvdS(S)/nu_v(T,P))\n",
    "def mu(h,P):\n",
    "  h_s1 = h_l_sat(P)\n",
    "  h_s0 = h_v_sat(P)\n",
    "  T = h_to_T(h,P)\n",
    "  S = h_to_S(h,P)\n",
    "  if(h<=h_s1):\n",
    "    return mu_l(T,P)\n",
    "  elif(h>=h_s0):\n",
    "    return mu_v(T,P)\n",
    "  else:\n",
    "    return nu(h,P)*rho(h,P)\n",
    "def dmudS(h,P):\n",
    "  h_s1 = h_l_sat(P)\n",
    "  h_s0 = h_v_sat(P)\n",
    "  T = h_to_T(h,P)\n",
    "  S = h_to_S(h,P)\n",
    "  if(h<=h_s1) or (h>=h_s0):\n",
    "    return 0\n",
    "  else:\n",
    "    return drhodS(h,P)*nu(h,P)+rho(h,P)*dnudS(h,P)\n",
    "def cp(h,P):\n",
    "  h_s1 = h_l_sat(P)\n",
    "  h_s0 = h_v_sat(P)\n",
    "  T = h_to_T(h,P)\n",
    "  S = h_to_S(h,P)\n",
    "  if(h<=h_s1):\n",
    "    return cp_l(T,P)\n",
    "  elif(h>=h_s0):\n",
    "    return cp_v(T,P)\n",
    "  else:\n",
    "    return (S*rho_l(T,P)*cp_l(T,P)+(1-S)*rho_v(T,P)*cp_v(T,P))/rho(h,P)\n",
    "def dcpdS(h,P):\n",
    "  h_s1 = h_l_sat(P)\n",
    "  h_s0 = h_v_sat(P)\n",
    "  T = h_to_T(h,P)\n",
    "  S = h_to_S(h,P)\n",
    "  if(h<=h_s1) or (h>=h_s0):\n",
    "    return 0\n",
    "  else:\n",
    "    return (rho_l(T,P)*cp_l(T,P)-rho_v(T,P)*cp_v(T,P)-cp(h,P)*drhodS(h,P)) / rho(h,P)\n",
    "def k(h,P):\n",
    "  h_s1 = h_l_sat(P)\n",
    "  h_s0 = h_v_sat(P)\n",
    "  T = h_to_T(h,P)\n",
    "  S = h_to_S(h,P)\n",
    "  if(h<=h_s1):\n",
    "    return k_l(T,P)\n",
    "  elif(h>=h_s0):\n",
    "    return k_v(T,P)\n",
    "  else:\n",
    "    return S*k_l(T,P)+(1-S)*k_v(T,P)\n",
    "def dkdS(h,P):\n",
    "  h_s1 = h_l_sat(P)\n",
    "  h_s0 = h_v_sat(P)\n",
    "  T = h_to_T(h,P)\n",
    "  S = h_to_S(h,P)\n",
    "  if(h<=h_s1) or (k>=h_s0):\n",
    "    return 0\n",
    "  else:\n",
    "    return k_l(T,P)-k_v(T,P)\n",
    "  \n",
    "def lam(h,P):\n",
    "  T = h_to_T(h,P)\n",
    "  S = h_to_S(h,P)\n",
    "  return k_rl(S)*nu(h,P)/nu_l(T,P)\n",
    "def dlamdS(h,P):\n",
    "  T = h_to_T(h,P)\n",
    "  S = h_to_S(h,P)\n",
    "  return (dk_rldS(S)*nu(h,P)+k_rl(S)*dnudS(h,P))/nu_l(T,P)\n",
    "  \n",
    "def Re_l(T,P,v,D):\n",
    "  return v*D/nu_l(T,P)\n",
    "def dRe_ldT(T,P,v,D):\n",
    "  return v*D/nu_l(T,P)**2*dnu_ldT(T,P)\n",
    "def Re_v(T,P,v,D):\n",
    "  return v*D/nu_v(T,P)\n",
    "def dRe_vdT(T,P,v,D):\n",
    "  return v*D/nu_v(T,P)**2*dnu_vdT(T,P)\n",
    "def Pr_l(T,P):\n",
    "  return mu_l(T,P)*cp_l(T,P)/k_l(T,P)\n",
    "def dPr_ldT(T,P):\n",
    "  return (dmu_ldT(T,P)*cp_l(T,P)+mu_l(T,P)*dcp_ldT(T,P)-Pr_l(T,P)*dk_ldT(T,P))/k_l(T,P)\n",
    "def Pr_v(T,P):\n",
    "  return mu_v(T,P)*cp_v(T,P)/k_v(T,P)\n",
    "def dPr_vdT(T,P):\n",
    "  return (dmu_vdT(T,P)*cp_v(T,P)+mu_v(T,P)*dcp_vdT(T,P)-Pr_l(T,P)*dk_ldT(T,P))/k_l(T,P)\n",
    "def Nu_l(T,P,v,D):\n",
    "  return 2+1.1*Pr_l(T,P)**0.33*Re_l(T,P,v,D)**0.6\n",
    "def dNu_ldT(T,P,v,D):\n",
    "  return 1.1*(0.33*Pr_l(T,P)**-0.67*dPr_ldT(T,P)*Re_l(T,P,v,D)**0.6+0.6*Pr_l(T,P)**0.33*Re_l(T,P,v,D)**-0.4*dRe_ldT(T,P,v,D))\n",
    "def Nu_v(T,P,v,D):\n",
    "  return 2+1.1*Pr_v(T,P)**0.33*Re_v(T,P,v,D)**0.6\n",
    "def dNu_vdT(T,P,v,D):\n",
    "  return 1.1*(0.33*Pr_v(T,P)**-0.67*dPr_vdT(T,P)*Re_v(T,P,v,D)**0.6+0.6*Pr_v(T,P)**0.33*Re_v(T,P,v,D)**-0.4*dRe_vdT(T,P,v,D))\n",
    "def h_sl(T,P,v,D):\n",
    "  return Nu_l(T,P,v,D)*k_l(T,P)/D\n",
    "def dh_sldT(T,P,v,D):\n",
    "  return (dNu_ldT(T,P,v,D)*k_l(T,P)+Nu_l(T,P,v,D)*dk_ldT(T,P))/D\n",
    "def h_sv(T,P,v,D):\n",
    "  return Nu_v(T,P,v,D)*k_v(T,P)/D\n",
    "def dh_svdT(T,P,v,D):\n",
    "  return (dNu_vdT(T,P,v,D)*k_v(T,P)+Nu_v(T,P,v,D)*dk_vdT(T,P))/D\n",
    "def qsf_l(T,P,v,T_s,D,alpha_sf):\n",
    "  return h_sl(T,P,v,D)*alpha_sf*(T_s-T)\n",
    "def dqsf_ldT(T,P,v,T_s,D,alpha_sf):\n",
    "  return dh_sldT(T,P,v,D)*alpha_sf*(T_s-T)-h_sl(T,P,v,D)*alpha_sf\n",
    "def dqsf_ldT_s(T,P,v,T_s,D,alpha_sf):\n",
    "  return h_sl(T,P,v,D)*alpha_sf\n",
    "def qsf_v(T,P,v,T_s,D,alpha_sf):\n",
    "  return h_sv(T,P,v,D)*alpha_sf*(T_s-T)\n",
    "def dqsf_vdT(T,P,v,T_s,D,alpha_sf):\n",
    "  return dh_svdT(T,P,v,D)*alpha_sf*(T_s-T)-h_sv(T,P,v,D)*alpha_sf\n",
    "def dqsf_vdT_s(T,P,v,T_s,D,alpha_sf):\n",
    "  return h_sv(T,P,v,T_s,D)*alpha_sf\n",
    "def q_boil(h,P,T_s,alpha_sf):\n",
    "  T = h_to_T(h,P)\n",
    "  S = h_to_S(h,P)\n",
    "  return S*alpha_sf*mu(h,P)*h_fg(P)*np.sqrt(9.81*(rho_l(T,P)-rho_v(T,P))/0.072)*(cp_l(T,P)*(T_s - T_sat(P))/0.006/h_fg(P))**3*Pr_l(T,P)**(-1.7/0.33)\n",
    "def dq_boildS(h,P,T_s,alpha_sf):\n",
    "  S = h_to_S(h,P)\n",
    "  return q_boil(h,P,T_s,alpha_sf) * (1/S + dmudS(h,P)/mu(h,P))\n",
    "def dq_boildT_s(h,P,T_s,alpha_sf):\n",
    "  return q_boil(h,P,T_s,alpha_sf) * 3 / (T_s - T_sat(P))\n",
    "def qsf(h,P,v,T_s,D,alpha_sf):\n",
    "  h_m_s0 = h_v_sat(P)\n",
    "  h_m_s1=h_l_sat(P)\n",
    "  T = h_to_T(h,P)\n",
    "  if(h<=h_m_s1):\n",
    "    return qsf_l(T,P,v,T_s,D,alpha_sf)\n",
    "  elif(h>=h_m_s0):\n",
    "    return qsf_v(T,P,v,T_s,D,alpha_sf)\n",
    "  else:\n",
    "    s = h_to_S(h,P)\n",
    "    return q_boil(h,P,T_s,alpha_sf)+(1-s)*h_sv(T,P,v,D)*alpha_sf*(T_s-T)\n",
    "def dqsfdT(h,P,v,T_s,D,alpha_sf):\n",
    "  h_s0 = h_v_sat(P)\n",
    "  h_s1 = h_l_sat(P)\n",
    "  T = h_to_T(h,P)\n",
    "  if(h<=h_s1):\n",
    "    return dqsf_ldT(T,P,v,T_s,D,alpha_sf)\n",
    "  elif(h>=h_s0):\n",
    "    return dqsf_vdT(T,P,v,T_s,D,alpha_sf)\n",
    "  else:\n",
    "    S = h_to_S(h,P)\n",
    "    return dq_boildS(h,P,T_s,alpha_sf) - h_sv(T,P,v,D)*alpha_sf*(T_s-T)\n",
    "def dqsfdT_s(h,P,v,T_s,D,alpha_sf):\n",
    "  h_s0 = h_v_sat(P)\n",
    "  h_s1 = h_l_sat(P)\n",
    "  T = h_to_T(h,P)\n",
    "  if(h<=h_s1):\n",
    "    return dqsf_ldT_s(T,P,v,T_s,D,alpha_sf)\n",
    "  elif(h>=h_s0):\n",
    "    return dqsf_vdT_s(T,P,v,T_s,D,alpha_sf)\n",
    "  else:\n",
    "    S = h_to_S(h,P)\n",
    "    return dq_boildT_s(h,P,T_s,alpha_sf) - (1-S)*h_sv(T,P,v,D)*alpha_sf\n",
    "\n",
    "\n",
    "def h_inject(h,P,v,D):\n",
    "  h_s0 = h_v_sat(P)\n",
    "  h_s1 = h_l_sat(P)\n",
    "  T = h_to_T(h,P)\n",
    "  if(h<=h_s1):\n",
    "    return h_sl(T,P,v,D)\n",
    "  elif(h>=h_s0):\n",
    "    return h_sv(T,P,v,D)\n",
    "  else:\n",
    "    S = h_to_S(h,P)\n",
    "    return S * h_sl(T,P,v) + (1-S) * h_sv(T,P,v)\n",
    "def beta(h,P):\n",
    "  h_s0 = h_v_sat(P)\n",
    "  h_s1 = h_l_sat(P)\n",
    "  T = h_to_T(h,P)\n",
    "  S = h_to_S(h,P)\n",
    "  if(h<=h_s1) or (h>=h_s0):\n",
    "    return 1\n",
    "  else:\n",
    "    return (rho_v(T,P) / rho(h,P) * (1-S) * h_fg(P) + cp_l(T,P) * T_sat(P)) / ((1-lam(h,P)) * h_fg(P) + cp_l(T_sat(P),P) * T_sat(P))\n",
    "  \n"
   ]
  },
  {
   "cell_type": "code",
   "execution_count": 3,
   "metadata": {},
   "outputs": [],
   "source": [
    "import numpy as np"
   ]
  },
  {
   "cell_type": "code",
   "execution_count": 4,
   "metadata": {},
   "outputs": [
    {
     "data": {
      "text/plain": [
       "(2.7935062274873986e-07, 2.0898349896025438e-05, 0.013367113869687305)"
      ]
     },
     "execution_count": 4,
     "metadata": {},
     "output_type": "execute_result"
    }
   ],
   "source": [
    "P = 101325\n",
    "nu_l(T_sat(P),P), nu_v(T_sat(P),P), nu_l(T_sat(P),P) / nu_v(T_sat(P),P)"
   ]
  },
  {
   "cell_type": "code",
   "execution_count": 144,
   "metadata": {},
   "outputs": [],
   "source": [
    "d = 100e-6\n",
    "alpha_sf = 6*(1-e)/d\n",
    "m = 0.001\n",
    "m_flux = m / (0.06*0.06*np.pi/4)\n",
    "\n",
    "\n",
    "P = 101325\n",
    "h = (h_l_sat(P)+h_v_sat(P))/2\n",
    "T_s = T_sat(P)+0.1\n",
    "v = m_flux / rho(h,P)\n",
    "\n",
    "q = qsf(h,P,v,T_s,d,alpha_sf)\n",
    "dq = dqsfdT(h,P,v,T_s,d,alpha_sf)/(-dlamdS(h,P)*h_fg(P))\n",
    "g = gam.subs(s,h_to_S(h,P))"
   ]
  },
  {
   "cell_type": "code",
   "execution_count": null,
   "metadata": {},
   "outputs": [],
   "source": []
  },
  {
   "cell_type": "code",
   "execution_count": 145,
   "metadata": {},
   "outputs": [],
   "source": [
    "b = q - dq * h\n",
    "a = dq\n",
    "dx = 0.008/2000"
   ]
  },
  {
   "cell_type": "code",
   "execution_count": 146,
   "metadata": {},
   "outputs": [
    {
     "data": {
      "text/plain": [
       "(28804346.23649108, 93.1354694880963, 92.7817918367810, 167.505913384229)"
      ]
     },
     "execution_count": 146,
     "metadata": {},
     "output_type": "execute_result"
    }
   ],
   "source": [
    "b*dx,(g/dx+m_flux/2),(g/dx-m_flux/2),2*g/dx+a*dx"
   ]
  },
  {
   "cell_type": "code",
   "execution_count": 148,
   "metadata": {},
   "outputs": [
    {
     "data": {
      "text/latex": [
       "$\\displaystyle -0.0200270593046281$"
      ],
      "text/plain": [
       "-0.0200270593046281"
      ]
     },
     "execution_count": 148,
     "metadata": {},
     "output_type": "execute_result"
    }
   ],
   "source": [
    "def f(he,hw):\n",
    "    return -(b*dx-(g/dx+m_flux/2)*he-(g/dx-m_flux/2)*hw)/(2*g/dx+a*dx)\n",
    "\n",
    "def iter(h,n):\n",
    "    first = f(h,h)\n",
    "    r=[(first/h-1)*100]\n",
    "    nf = f(first,first)\n",
    "    r.append((nf/h-1)*100)\n",
    "    for _ in range(n-2):\n",
    "        nf = f(nf,nf)\n",
    "        r.append((nf/h-1)*100)\n",
    "    return r\n",
    "\n",
    "def iter_c(h,n):\n",
    "    first = f(h,h)\n",
    "    r=[(first/h-1)*100]\n",
    "    nf = f(first,first)\n",
    "    r.append((nf/first-1)*100)\n",
    "    for _ in range(n-2):\n",
    "        last = nf\n",
    "        nf = f(nf,nf)\n",
    "        r.append((nf/last-1)*100)\n",
    "    return r\n",
    "\n",
    "(f(f(h,h),f(h,h))/f(h,h) - 1) *100\n",
    "\n",
    "# cr = iter(h,1000)\n",
    "# ccr = iter_c(h,1000)\n",
    "# plt.plot(range(1000),cr)"
   ]
  },
  {
   "cell_type": "code",
   "execution_count": 150,
   "metadata": {},
   "outputs": [
    {
     "data": {
      "text/latex": [
       "$\\displaystyle 845.405291989679$"
      ],
      "text/plain": [
       "845.405291989679"
      ]
     },
     "execution_count": 150,
     "metadata": {},
     "output_type": "execute_result"
    }
   ],
   "source": [
    "f(h,h)-h_l_sat(P)"
   ]
  },
  {
   "cell_type": "code",
   "execution_count": 121,
   "metadata": {},
   "outputs": [
    {
     "data": {
      "text/plain": [
       "[<matplotlib.lines.Line2D at 0x170a37073a0>]"
      ]
     },
     "execution_count": 121,
     "metadata": {},
     "output_type": "execute_result"
    },
    {
     "data": {
      "image/png": "[encoded data removed]",
      "text/plain": [
       "<Figure size 640x480 with 1 Axes>"
      ]
     },
     "metadata": {},
     "output_type": "display_data"
    }
   ],
   "source": [
    "plt.plot(range(1000),ccr,'r')"
   ]
  },
  {
   "cell_type": "code",
   "execution_count": 2,
   "metadata": {},
   "outputs": [],
   "source": [
    "import numpy as np\n",
    "import matplotlib.pyplot as plt"
   ]
  },
  {
   "cell_type": "code",
   "execution_count": 12,
   "metadata": {},
   "outputs": [],
   "source": [
    "K = 3.67e-12\n",
    "e = 0.3\n",
    "sigma = 0.072\n",
    "\n",
    "def dj(S):\n",
    "    return 1.417-4.240*(1-S)+3.789*(1-S)**2\n",
    "def D(h,P):\n",
    "    S = h_to_S(h,P)\n",
    "    return K/nu(h,P)*lam(h,P)*(1-lam(h,P))*np.sqrt(e/K)*sigma*dj(S)\n",
    "def gamma(h,P):\n",
    "    return D(h,P)/dlamdS(h,P)"
   ]
  },
  {
   "cell_type": "code",
   "execution_count": 11,
   "metadata": {},
   "outputs": [
    {
     "data": {
      "text/plain": [
       "2.0898349896025438e-05"
      ]
     },
     "execution_count": 11,
     "metadata": {},
     "output_type": "execute_result"
    }
   ],
   "source": [
    "nu(h_v_sat(P),P)"
   ]
  },
  {
   "cell_type": "code",
   "execution_count": 13,
   "metadata": {},
   "outputs": [
    {
     "name": "stderr",
     "output_type": "stream",
     "text": [
      "C:\\Users\\xowls\\AppData\\Local\\Temp\\ipykernel_8052\\621821300.py:11: RuntimeWarning: invalid value encountered in double_scalars\n",
      "  return D(h,P)/dlamdS(h,P)\n"
     ]
    },
    {
     "data": {
      "text/plain": [
       "[<matplotlib.lines.Line2D at 0x1709bd8ce20>]"
      ]
     },
     "execution_count": 13,
     "metadata": {},
     "output_type": "execute_result"
    },
    {
     "data": {
      "image/png": "[encoded data removed]",
      "text/plain": [
       "<Figure size 640x480 with 1 Axes>"
      ]
     },
     "metadata": {},
     "output_type": "display_data"
    }
   ],
   "source": [
    "P = 101325\n",
    "h = np.linspace(h_l_sat(P)+1e-10,h_v_sat(P)-1e-10,1000)\n",
    "gam = []\n",
    "\n",
    "for h_ in h:\n",
    "    gam.append(gamma(h_,P))\n",
    "\n",
    "plt.plot((h-h_l_sat(P))/h_fg(P),gam)"
   ]
  },
  {
   "cell_type": "code",
   "execution_count": 8,
   "metadata": {},
   "outputs": [
    {
     "data": {
      "text/plain": [
       "[<matplotlib.lines.Line2D at 0x1709b26e3b0>]"
      ]
     },
     "execution_count": 8,
     "metadata": {},
     "output_type": "execute_result"
    },
    {
     "data": {
      "image/png": "[encoded data removed]",
      "text/plain": [
       "<Figure size 640x480 with 1 Axes>"
      ]
     },
     "metadata": {},
     "output_type": "display_data"
    }
   ],
   "source": [
    "dlds = []\n",
    "for h_ in h:\n",
    "    dlds.append(dlamdS(h_,P))\n",
    "plt.plot((h-h_l_sat(P))/h_fg(P),dlds)"
   ]
  },
  {
   "cell_type": "code",
   "execution_count": null,
   "metadata": {},
   "outputs": [],
   "source": [
    "n_mesh = 1000\n",
    "x = np.linspace(-0.004,0.004,n_mesh)\n",
    "cell_centroid = (x[1:]-x[:-1])/2\n",
    "dx = x[1:]-x[:-1]\n",
    "\n",
    "u = np.zeros_like(cell_centroid)\n",
    "p = np.zeros_like(u)\n",
    "h = np.zeros_like(u)\n",
    "T_s = np.zeros_like(u)"
   ]
  },
  {
   "cell_type": "code",
   "execution_count": 1,
   "metadata": {},
   "outputs": [],
   "source": [
    "import numpy as np"
   ]
  },
  {
   "cell_type": "code",
   "execution_count": 39,
   "metadata": {},
   "outputs": [],
   "source": [
    "def gauss_seidel(A,B,x0,n):\n",
    "    for _ in range(n):\n",
    "        for i,row in enumerate(A):\n",
    "            ap = row[i]\n",
    "            xp = x0[i]\n",
    "            x0[i] = (B[i] - (np.dot(row,x0)-ap*xp))/ap\n",
    "    return x0"
   ]
  },
  {
   "cell_type": "code",
   "execution_count": 52,
   "metadata": {},
   "outputs": [
    {
     "ename": "MemoryError",
     "evalue": "Unable to allocate 37.3 GiB for an array with shape (100000, 100000) and data type int32",
     "output_type": "error",
     "traceback": [
      "\u001b[1;31m---------------------------------------------------------------------------\u001b[0m",
      "\u001b[1;31mMemoryError\u001b[0m                               Traceback (most recent call last)",
      "Cell \u001b[1;32mIn[52], line 2\u001b[0m\n\u001b[0;32m      1\u001b[0m s \u001b[39m=\u001b[39m \u001b[39m100000\u001b[39m\n\u001b[1;32m----> 2\u001b[0m A \u001b[39m=\u001b[39m np\u001b[39m.\u001b[39;49mrandom\u001b[39m.\u001b[39;49mrandint(\u001b[39m1\u001b[39;49m,s,size\u001b[39m=\u001b[39;49m(s,s)) \u001b[39m-\u001b[39m np\u001b[39m.\u001b[39midentity(s) \u001b[39m*\u001b[39m \u001b[39m1e10\u001b[39m\n\u001b[0;32m      3\u001b[0m x \u001b[39m=\u001b[39m np\u001b[39m.\u001b[39mrandom\u001b[39m.\u001b[39mrandint(\u001b[39m-\u001b[39ms,s,size\u001b[39m=\u001b[39ms)\n\u001b[0;32m      4\u001b[0m B \u001b[39m=\u001b[39m np\u001b[39m.\u001b[39mdot(A,x)\n",
      "File \u001b[1;32mmtrand.pyx:746\u001b[0m, in \u001b[0;36mnumpy.random.mtrand.RandomState.randint\u001b[1;34m()\u001b[0m\n",
      "File \u001b[1;32m_bounded_integers.pyx:1347\u001b[0m, in \u001b[0;36mnumpy.random._bounded_integers._rand_int32\u001b[1;34m()\u001b[0m\n",
      "\u001b[1;31mMemoryError\u001b[0m: Unable to allocate 37.3 GiB for an array with shape (100000, 100000) and data type int32"
     ]
    }
   ],
   "source": [
    "s = 10000\n",
    "A = np.random.randint(1,s,size=(s,s)) - np.identity(s) * 1e10\n",
    "x = np.random.randint(-s,s,size=s)\n",
    "B = np.dot(A,x)\n",
    "\n",
    "x0 = np.zeros(s)\n",
    "\n",
    "gauss_seidel(A,B,x0,10) - x"
   ]
  },
  {
   "cell_type": "code",
   "execution_count": 90,
   "metadata": {},
   "outputs": [],
   "source": [
    "import numpy as np\n",
    "from scipy.sparse import csc_matrix"
   ]
  },
  {
   "cell_type": "code",
   "execution_count": 102,
   "metadata": {},
   "outputs": [],
   "source": [
    "s = 20000\n",
    "\n",
    "row = np.array([int(i/3) for i in range(s*3-4)])\n",
    "row = np.append(row,1)\n",
    "row = np.append(row,2)\n",
    "row = np.append(row,s-1)\n",
    "row = np.append(row,s-1)\n",
    "col = np.array([i%3 + int(i/3) for i in range(s*3-4)])\n",
    "col = np.append(col,0)\n",
    "col = np.append(col,1)\n",
    "col = np.append(col,s-1)\n",
    "col = np.append(col,s-2)\n",
    "\n",
    "data = np.array([np.random.randint(10) for i in range(s*3)])\n",
    "A = csc_matrix((data, (row, col)),\n",
    "                shape = (s,s)).toarray() - np.identity(s) * 1e20\n",
    "  \n",
    "x = np.random.randint(-s,s,size=s)\n",
    "B = np.dot(A,x)\n",
    "\n",
    "x0 = np.zeros(s)\n",
    "\n",
    "y = gauss_seidel(A,B,x0,10) - x"
   ]
  },
  {
   "cell_type": "code",
   "execution_count": 103,
   "metadata": {},
   "outputs": [
    {
     "data": {
      "text/plain": [
       "-6.853717593457986e-11"
      ]
     },
     "execution_count": 103,
     "metadata": {},
     "output_type": "execute_result"
    }
   ],
   "source": [
    "y.sum()"
   ]
  },
  {
   "cell_type": "code",
   "execution_count": 104,
   "metadata": {},
   "outputs": [],
   "source": [
    "def f(x):\n",
    "    a11 = 8e10\n",
    "    a12 = 2\n",
    "    a13 = 0\n",
    "    a21 = 2\n",
    "    a22 = 7e10\n",
    "    a23 = 1\n",
    "    a31 = 0\n",
    "    a32 = -2\n",
    "    a33 = 9e10\n",
    "\n",
    "    b1 = 4e11 - 4\n",
    "    b2 = 11 - 14e10\n",
    "    b3 = 4 + 54e10\n",
    "\n",
    "    x1 = (b1 - a12 * x[1] - a13 * x[2]) / a11\n",
    "    x2 = (b2 - a21 * x1 - a23 * x[2]) / a22\n",
    "    x3 = (b3 - a31 * x1 - a32 * x2) / a33\n",
    "\n",
    "    return [x1,x2,x3]"
   ]
  },
  {
   "cell_type": "code",
   "execution_count": 105,
   "metadata": {},
   "outputs": [],
   "source": [
    "x0 = [0,0,0]"
   ]
  },
  {
   "cell_type": "code",
   "execution_count": 106,
   "metadata": {},
   "outputs": [
    {
     "data": {
      "text/plain": [
       "[4.999999984975, -1.9999997812285715, 6.0]"
      ]
     },
     "execution_count": 106,
     "metadata": {},
     "output_type": "execute_result"
    }
   ],
   "source": [
    "f(x)"
   ]
  },
  {
   "cell_type": "code",
   "execution_count": 16,
   "metadata": {},
   "outputs": [],
   "source": [
    "from sympy import symbols, Function, diff, simplify\n",
    "import numpy as np"
   ]
  },
  {
   "cell_type": "code",
   "execution_count": 17,
   "metadata": {},
   "outputs": [],
   "source": [
    "nu_L = nu_l(T_sat(101325),101325)\n",
    "nu_V = nu_v(T_sat(101325),101325)\n",
    "sigma = 0.072\n",
    "K = 3.67e-12\n",
    "e = 0.3"
   ]
  },
  {
   "cell_type": "code",
   "execution_count": 18,
   "metadata": {},
   "outputs": [],
   "source": [
    "s = symbols('s')\n",
    "j = 1.417*(1-s)-2.12*(1-s)**2+1.263*(1-s)**3\n",
    "nu_m = 1/(s**3/nu_L + (1-s)**3/nu_V)\n",
    "l = nu_m*s**3/nu_L\n",
    "D = -K/nu_m*l*(1-l)*(e/K)**0.5*sigma*diff(j,s)\n",
    "gam = D / diff(l,s)"
   ]
  },
  {
   "cell_type": "code",
   "execution_count": 8,
   "metadata": {},
   "outputs": [
    {
     "data": {
      "text/latex": [
       "$\\displaystyle \\frac{3.52613107138514 \\cdot 10^{15} s \\left(s - 1\\right)^{3} \\cdot \\left(1.31376116648251 \\cdot 10^{-5} s^{3} - 1.75611951099449 \\cdot 10^{-7} \\left(s - 1\\right)^{3}\\right) \\left(s^{3} - 0.0133671138696873 \\left(s - 1\\right)^{3}\\right)^{2} \\cdot \\left(4.24 s + 3.789 \\left(s - 1\\right)^{2} - 2.823\\right)}{\\left(3579730.69886242 s^{3} - 47850.6678745093 \\left(s - 1\\right)^{3}\\right) \\left(2.7935062274874 \\cdot 10^{-7} s \\left(10739192.0965873 s^{2} - 143552.003623528 \\left(1 - s\\right)^{2}\\right) \\left(3579730.69886242 s^{3} - 47850.6678745093 \\left(s - 1\\right)^{3}\\right) - 10739192.0965873 \\left(s^{3} - 0.0133671138696873 \\left(s - 1\\right)^{3}\\right)^{2}\\right)}$"
      ],
      "text/plain": [
       "3.52613107138514e+15*s*(s - 1)**3*(1.31376116648251e-5*s**3 - 1.75611951099449e-7*(s - 1)**3)*(s**3 - 0.0133671138696873*(s - 1)**3)**2*(4.24*s + 3.789*(s - 1)**2 - 2.823)/((3579730.69886242*s**3 - 47850.6678745093*(s - 1)**3)*(2.7935062274874e-7*s*(10739192.0965873*s**2 - 143552.003623528*(1 - s)**2)*(3579730.69886242*s**3 - 47850.6678745093*(s - 1)**3) - 10739192.0965873*(s**3 - 0.0133671138696873*(s - 1)**3)**2))"
      ]
     },
     "execution_count": 8,
     "metadata": {},
     "output_type": "execute_result"
    }
   ],
   "source": [
    "simplify(gam)"
   ]
  },
  {
   "cell_type": "code",
   "execution_count": 25,
   "metadata": {},
   "outputs": [
    {
     "data": {
      "text/latex": [
       "$\\displaystyle 0.0043411030475474$"
      ],
      "text/plain": [
       "0.00434110304754740"
      ]
     },
     "execution_count": 25,
     "metadata": {},
     "output_type": "execute_result"
    }
   ],
   "source": [
    "r = []\n",
    "P = 101325\n",
    "h = np.linspace(h_l_sat(P)+1,h_v_sat(P)-1,1000)\n",
    "\n",
    "m = 0\n",
    "i = 0\n",
    "\n",
    "for j,h_ in enumerate(h):\n",
    "    a = gam.subs(s,h_to_S(h_,P))\n",
    "    if(m<a):\n",
    "        m = a\n",
    "        i = j\n",
    "    r.append(a)\n",
    "m"
   ]
  },
  {
   "cell_type": "code",
   "execution_count": 26,
   "metadata": {},
   "outputs": [
    {
     "data": {
      "text/plain": [
       "1560798.916426558"
      ]
     },
     "execution_count": 26,
     "metadata": {},
     "output_type": "execute_result"
    }
   ],
   "source": [
    "h[i]"
   ]
  },
  {
   "cell_type": "code",
   "execution_count": 100,
   "metadata": {},
   "outputs": [
    {
     "data": {
      "text/plain": [
       "1560798.0021870288"
      ]
     },
     "execution_count": 100,
     "metadata": {},
     "output_type": "execute_result"
    }
   ],
   "source": [
    "s_max = S[i]\n",
    "P = 101325\n",
    "l_max = k_rl(s_max)/nu_l(T_sat(P),P) * (1/(k_rl(s_max)/nu_l(T_sat(P),P)+k_rv(s_max)/nu_v(T_sat(P),P)))\n",
    "h_max = (1-l_max)*h_fg(P)+h_l_sat(P)\n",
    "h_max"
   ]
  },
  {
   "cell_type": "code",
   "execution_count": 27,
   "metadata": {},
   "outputs": [
    {
     "data": {
      "text/latex": [
       "$\\displaystyle -0.000142153721394145$"
      ],
      "text/plain": [
       "-0.000142153721394145"
      ]
     },
     "execution_count": 27,
     "metadata": {},
     "output_type": "execute_result"
    }
   ],
   "source": [
    "d = 100e-6\n",
    "alpha_sf = 6*(1-e)/d\n",
    "m = 0.001\n",
    "m_flux = m / (0.06*0.06*np.pi/4)\n",
    "\n",
    "\n",
    "P = 101325\n",
    "h = h[i]\n",
    "T_s = T_sat(P)+0.1\n",
    "v = m_flux / rho(h,P)\n",
    "\n",
    "q = qsf(h,P,v,T_s,d,alpha_sf)\n",
    "dq = dqsfdT(h,P,v,T_s,d,alpha_sf)/(-dlamdS(h,P)*h_fg(P))\n",
    "g = gam.subs(s,h_to_S(h,P))\n",
    "\n",
    "b = q - dq * h\n",
    "a = dq\n",
    "dx = 0.008/2000\n",
    "\n",
    "def f(he,hw):\n",
    "    return -(b*dx-(g/dx+m_flux/2)*he-(g/dx-m_flux/2)*hw)/(2*g/dx+a*dx)\n",
    "\n",
    "(f(f(h,h),f(h,h))/f(h,h) - 1) *100"
   ]
  },
  {
   "cell_type": "code",
   "execution_count": 39,
   "metadata": {},
   "outputs": [
    {
     "data": {
      "text/latex": [
       "$\\displaystyle -0.000107757524336893$"
      ],
      "text/plain": [
       "-0.000107757524336893"
      ]
     },
     "execution_count": 39,
     "metadata": {},
     "output_type": "execute_result"
    }
   ],
   "source": [
    "b = q - dq * h\n",
    "a = dq\n",
    "dx = 5e-6\n",
    "\n",
    "def f(he,hw):\n",
    "    return -(b*dx-(g/dx+m_flux/2)*he-(g/dx-m_flux/2)*hw)/(2*g/dx+a*dx)\n",
    "\n",
    "(f(f(h,h),f(h,h))/f(h,h) - 1) *100"
   ]
  },
  {
   "cell_type": "code",
   "execution_count": 44,
   "metadata": {},
   "outputs": [],
   "source": [
    "k_l(T_sat(P),P)*e/cp_l(T_sat(P),P)\n",
    "\n",
    "s_r = np.linspace(-1,0,100)\n",
    "s_l = np.linspace(1,2,100)\n",
    "kl = [k_l(T_sat(P),P)*e/cp_l(T_sat(P),P) for _ in s_l]\n",
    "kv = [k_v(T_sat(P),P)*e/cp_v(T_sat(P),P) for _ in s_r]"
   ]
  },
  {
   "cell_type": "code",
   "execution_count": 45,
   "metadata": {},
   "outputs": [
    {
     "data": {
      "text/plain": [
       "[<matplotlib.lines.Line2D at 0x170a138ee30>]"
      ]
     },
     "execution_count": 45,
     "metadata": {},
     "output_type": "execute_result"
    },
    {
     "data": {
      "image/png": "[encoded data removed]",
      "text/plain": [
       "<Figure size 640x480 with 1 Axes>"
      ]
     },
     "metadata": {},
     "output_type": "display_data"
    }
   ],
   "source": [
    "plt.plot(S,r)\n",
    "plt.plot(s_r,kv)\n",
    "plt.plot(s_l,kl)"
   ]
  },
  {
   "cell_type": "code",
   "execution_count": null,
   "metadata": {},
   "outputs": [],
   "source": [
    "g_max = 0.00625\n"
   ]
  },
  {
   "cell_type": "code",
   "execution_count": 138,
   "metadata": {},
   "outputs": [],
   "source": [
    "d = 100e-6\n",
    "alpha_sf = 6*(1-e)/d\n",
    "m = 0.001\n",
    "m_flux = m / (0.06*0.06*np.pi/4)\n",
    "\n",
    "lr = 0.9\n",
    "\n",
    "P = 101325\n",
    "h = (h_l_sat(P) + h_v_sat(P))/2\n",
    "history = [h]\n",
    "for i in range(50):\n",
    "    T_s = h_to_T(h,P)+0.1\n",
    "    v = m_flux / rho(h,P)\n",
    "\n",
    "    q = qsf(h,P,v,T_s,d,alpha_sf)\n",
    "    dq = dqsfdT(h,P,v,T_s,d,alpha_sf)/(-dlamdS(h,P)*h_fg(P))\n",
    "    if(h_to_S(h,P)==1):\n",
    "        g = 0.68 / 4182\n",
    "    elif(h_to_S(h,P)==0):\n",
    "        g = k_v(h_to_T(h,P),P) / cp_v(h_to_T(h,P),P)\n",
    "    else:\n",
    "        g = gam.subs(s,h_to_S(h,P))\n",
    "\n",
    "    b = q - dq * h\n",
    "    a = dq\n",
    "    dx = 100e-6\n",
    "\n",
    "    def f(he,hw):\n",
    "        return -(b*dx-(g/dx+m_flux/2)*he-(g/dx-m_flux/2)*hw)/(2*g/dx+a*dx)\n",
    "\n",
    "    h = f(h,h) * (1-lr) + lr * h\n",
    "    history.append(h)"
   ]
  },
  {
   "cell_type": "code",
   "execution_count": 139,
   "metadata": {},
   "outputs": [
    {
     "data": {
      "text/plain": [
       "[<matplotlib.lines.Line2D at 0x170a6503370>]"
      ]
     },
     "execution_count": 139,
     "metadata": {},
     "output_type": "execute_result"
    },
    {
     "data": {
      "image/png": "[encoded data removed]",
      "text/plain": [
       "<Figure size 640x480 with 1 Axes>"
      ]
     },
     "metadata": {},
     "output_type": "display_data"
    }
   ],
   "source": [
    "plt.plot(range(51),history)"
   ]
  },
  {
   "cell_type": "code",
   "execution_count": 141,
   "metadata": {},
   "outputs": [
    {
     "data": {
      "text/plain": [
       "[<matplotlib.lines.Line2D at 0x170a66baad0>]"
      ]
     },
     "execution_count": 141,
     "metadata": {},
     "output_type": "execute_result"
    },
    {
     "data": {
      "image/png": "[encoded data removed]",
      "text/plain": [
       "<Figure size 640x480 with 1 Axes>"
      ]
     },
     "metadata": {},
     "output_type": "display_data"
    }
   ],
   "source": [
    "history = np.array(history)\n",
    "plt.plot(range(51),(history/history[0]-1)*100)"
   ]
  },
  {
   "cell_type": "code",
   "execution_count": 143,
   "metadata": {},
   "outputs": [
    {
     "data": {
      "text/plain": [
       "[<matplotlib.lines.Line2D at 0x170a679a110>]"
      ]
     },
     "execution_count": 143,
     "metadata": {},
     "output_type": "execute_result"
    },
    {
     "data": {
      "image/png": "[encoded data removed]",
      "text/plain": [
       "<Figure size 640x480 with 1 Axes>"
      ]
     },
     "metadata": {},
     "output_type": "display_data"
    }
   ],
   "source": [
    "plt.plot(range(51),history-h_v_sat(P))"
   ]
  },
  {
   "cell_type": "code",
   "execution_count": 9,
   "metadata": {},
   "outputs": [],
   "source": [
    "from sympy import symbols, diff, simplify"
   ]
  },
  {
   "cell_type": "code",
   "execution_count": 7,
   "metadata": {},
   "outputs": [],
   "source": [
    "x,c = symbols('x c')\n",
    "y = x**3 / (x**3 + c * (1-x)**3)"
   ]
  },
  {
   "cell_type": "code",
   "execution_count": 14,
   "metadata": {},
   "outputs": [
    {
     "data": {
      "text/latex": [
       "$\\displaystyle \\frac{\\left(c \\left(x - 1\\right)^{3} - x^{3}\\right)^{2}}{3 x^{2} \\left(- c \\left(x - 1\\right)^{3} + x^{3} + x \\left(c \\left(x - 1\\right)^{2} - x^{2}\\right)\\right)}$"
      ],
      "text/plain": [
       "(c*(x - 1)**3 - x**3)**2/(3*x**2*(-c*(x - 1)**3 + x**3 + x*(c*(x - 1)**2 - x**2)))"
      ]
     },
     "execution_count": 14,
     "metadata": {},
     "output_type": "execute_result"
    }
   ],
   "source": [
    "dy = simplify(diff(y,x))\n",
    "dydx = 1/dy\n",
    "dydx"
   ]
  },
  {
   "cell_type": "code",
   "execution_count": 16,
   "metadata": {},
   "outputs": [],
   "source": [
    "import numpy as np\n",
    "import matplotlib.pyplot as plt"
   ]
  },
  {
   "cell_type": "code",
   "execution_count": 20,
   "metadata": {},
   "outputs": [
    {
     "data": {
      "text/latex": [
       "$\\displaystyle \\frac{\\left(- x^{3} + 0.0133671138696873 \\left(x - 1\\right)^{3}\\right)^{2}}{3 x^{2} \\left(x^{3} + x \\left(- x^{2} + 0.0133671138696873 \\left(x - 1\\right)^{2}\\right) - 0.0133671138696873 \\left(x - 1\\right)^{3}\\right)}$"
      ],
      "text/plain": [
       "(-x**3 + 0.0133671138696873*(x - 1)**3)**2/(3*x**2*(x**3 + x*(-x**2 + 0.0133671138696873*(x - 1)**2) - 0.0133671138696873*(x - 1)**3))"
      ]
     },
     "execution_count": 20,
     "metadata": {},
     "output_type": "execute_result"
    }
   ],
   "source": [
    "P = 101325\n",
    "dydx_c = dydx.subs(c,nu_l(T_sat(P),P)/nu_v(T_sat(P),P))\n",
    "dydx_c"
   ]
  },
  {
   "cell_type": "code",
   "execution_count": 26,
   "metadata": {},
   "outputs": [
    {
     "data": {
      "text/plain": [
       "[<matplotlib.lines.Line2D at 0x19668a5a920>]"
      ]
     },
     "execution_count": 26,
     "metadata": {},
     "output_type": "execute_result"
    },
    {
     "data": {
      "image/png": "[encoded data removed]",
      "text/plain": [
       "<Figure size 640x480 with 1 Axes>"
      ]
     },
     "metadata": {},
     "output_type": "display_data"
    }
   ],
   "source": [
    "x_d = np.linspace(0.9,0.999,1000)\n",
    "r = []\n",
    "\n",
    "for s in x_d:\n",
    "    r.append(dydx_c.subs(x,s))\n",
    "\n",
    "plt.plot(x_d,r)"
   ]
  },
  {
   "cell_type": "code",
   "execution_count": 27,
   "metadata": {},
   "outputs": [
    {
     "data": {
      "image/png": "[encoded data removed]",
      "text/plain": [
       "<Figure size 640x480 with 1 Axes>"
      ]
     },
     "metadata": {},
     "output_type": "display_data"
    }
   ],
   "source": [
    "plt.plot(x_d,r)\n",
    "plt.yscale('log')"
   ]
  },
  {
   "cell_type": "code",
   "execution_count": null,
   "metadata": {},
   "outputs": [],
   "source": []
  }
 ],
 "metadata": {
  "kernelspec": {
   "display_name": "base",
   "language": "python",
   "name": "python3"
  },
  "language_info": {
   "codemirror_mode": {
    "name": "ipython",
    "version": 3
   },
   "file_extension": ".py",
   "mimetype": "text/x-python",
   "name": "python",
   "nbconvert_exporter": "python",
   "pygments_lexer": "ipython3",
   "version": "3.10.9"
  },
  "orig_nbformat": 4
 },
 "nbformat": 4,
 "nbformat_minor": 2
}
