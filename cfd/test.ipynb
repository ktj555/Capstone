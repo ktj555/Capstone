{
 "cells": [
  {
   "cell_type": "code",
   "execution_count": 2,
   "metadata": {},
   "outputs": [],
   "source": [
    "import numpy as np"
   ]
  },
  {
   "cell_type": "code",
   "execution_count": 3,
   "metadata": {},
   "outputs": [],
   "source": [
    "def TDMA(a,b,c,d,n):\n",
    "    def p(index):\n",
    "        if(index==1):\n",
    "            return -c(1)/a(1)\n",
    "        elif(index==n):\n",
    "            return 0\n",
    "        else:\n",
    "            return -c(index)/(a(index)+b(index)*p(index-1))\n",
    "        \n",
    "    def q(index):\n",
    "        if(index==1):\n",
    "            return d(1)/a(1)\n",
    "        else:\n",
    "            return (d(index)-b(index)*q(index-1))/(a(index)+b(index)*p(index-1))\n",
    "    \n",
    "    x = np.zeros(n)\n",
    "    x[n-1] = q(n)\n",
    "    for i in range(n-1,2,-1):\n",
    "        print(p(i),q(i))\n",
    "        x[i-1] = p(i) * x[i] + q(i)\n",
    "    x[0] = p(1)*x[1]+q(1)\n",
    "    return x"
   ]
  },
  {
   "cell_type": "code",
   "execution_count": 4,
   "metadata": {},
   "outputs": [
    {
     "ename": "",
     "evalue": "",
     "output_type": "error",
     "traceback": [
      "\u001b[1;31mCannot execute code, session has been disposed. Please try restarting the Kernel."
     ]
    },
    {
     "ename": "",
     "evalue": "",
     "output_type": "error",
     "traceback": [
      "\u001b[1;31mThe Kernel crashed while executing code in the the current cell or a previous cell. Please review the code in the cell(s) to identify a possible cause of the failure. Click <a href='https://aka.ms/vscodeJupyterKernelCrash'>here</a> for more info. View Jupyter <a href='command:jupyter.viewOutput'>log</a> for further details."
     ]
    }
   ],
   "source": [
    "def a(n):\n",
    "    return 2\n",
    "\n",
    "def b(n):\n",
    "    if(n==1):\n",
    "        return 0\n",
    "    else:\n",
    "        return -1\n",
    "    \n",
    "def c(n):\n",
    "    if(n==5):\n",
    "        return 0\n",
    "    else:\n",
    "        return -1\n",
    "    \n",
    "def d(n):\n",
    "    if(n==5):\n",
    "        return 6\n",
    "    else:\n",
    "        return 0\n",
    "    \n",
    "TDMA(a,b,c,d,5)"
   ]
  },
  {
   "cell_type": "code",
   "execution_count": 1,
   "metadata": {},
   "outputs": [],
   "source": [
    "import sympy"
   ]
  },
  {
   "cell_type": "code",
   "execution_count": 9,
   "metadata": {},
   "outputs": [],
   "source": [
    "x = sympy.symbols('x')\n",
    "a,b,c,d = sympy.symbols('a b c d')\n",
    "# 24.141e-6 * pow(10, 247.8 / (T - 140))\n",
    "f = a*b**(c/(x-d))\n",
    "\n",
    "df = sympy.diff(f,x)"
   ]
  },
  {
   "cell_type": "code",
   "execution_count": 11,
   "metadata": {},
   "outputs": [
    {
     "data": {
      "text/latex": [
       "$\\displaystyle - \\frac{c \\log{\\left(b \\right)}}{\\left(- d + x\\right)^{2}}$"
      ],
      "text/plain": [
       "-c*log(b)/(-d + x)**2"
      ]
     },
     "execution_count": 11,
     "metadata": {},
     "output_type": "execute_result"
    }
   ],
   "source": [
    "df/f"
   ]
  },
  {
   "cell_type": "code",
   "execution_count": 18,
   "metadata": {},
   "outputs": [],
   "source": [
    "T, P = sympy.symbols('T P')\n",
    "\n",
    "mu_l = sympy.Function('mu_l')(T,P)\n",
    "rho_l = sympy.Function('rho_l')(T,P)\n",
    "\n",
    "nu_l = mu_l/rho_l\n",
    "dnu_l = sympy.diff(nu_l,T)"
   ]
  },
  {
   "cell_type": "code",
   "execution_count": 21,
   "metadata": {},
   "outputs": [
    {
     "data": {
      "text/latex": [
       "$\\displaystyle - \\frac{\\mu_{l}{\\left(T,P \\right)} \\frac{\\partial}{\\partial T} \\rho_{l}{\\left(T,P \\right)}}{\\rho_{l}^{2}{\\left(T,P \\right)}} + \\frac{\\frac{\\partial}{\\partial T} \\mu_{l}{\\left(T,P \\right)}}{\\rho_{l}{\\left(T,P \\right)}}$"
      ],
      "text/plain": [
       "-mu_l(T, P)*Derivative(rho_l(T, P), T)/rho_l(T, P)**2 + Derivative(mu_l(T, P), T)/rho_l(T, P)"
      ]
     },
     "execution_count": 21,
     "metadata": {},
     "output_type": "execute_result"
    }
   ],
   "source": [
    "dnu_l"
   ]
  },
  {
   "cell_type": "code",
   "execution_count": 24,
   "metadata": {},
   "outputs": [],
   "source": [
    "nu_l,nu_v,S = sympy.symbols('nu_l nu_v S')\n",
    "k_rl = sympy.Function('k_rl')(S)\n",
    "k_rv = sympy.Function('k_rv')(S)\n",
    "\n",
    "nu = 1 / (k_rl/nu_l + k_rv/nu_v)\n",
    "dnu = sympy.diff(nu,S)"
   ]
  },
  {
   "cell_type": "code",
   "execution_count": 25,
   "metadata": {},
   "outputs": [
    {
     "data": {
      "text/latex": [
       "$\\displaystyle \\frac{- \\frac{\\frac{d}{d S} k_{rv}{\\left(S \\right)}}{\\nu_{v}} - \\frac{\\frac{d}{d S} k_{rl}{\\left(S \\right)}}{\\nu_{l}}}{\\left(\\frac{k_{rv}{\\left(S \\right)}}{\\nu_{v}} + \\frac{k_{rl}{\\left(S \\right)}}{\\nu_{l}}\\right)^{2}}$"
      ],
      "text/plain": [
       "(-Derivative(k_rv(S), S)/nu_v - Derivative(k_rl(S), S)/nu_l)/(k_rv(S)/nu_v + k_rl(S)/nu_l)**2"
      ]
     },
     "execution_count": 25,
     "metadata": {},
     "output_type": "execute_result"
    }
   ],
   "source": [
    "dnu"
   ]
  },
  {
   "cell_type": "code",
   "execution_count": 26,
   "metadata": {},
   "outputs": [
    {
     "data": {
      "text/latex": [
       "$\\displaystyle \\frac{1}{\\left(\\frac{k_{rv}{\\left(S \\right)}}{\\nu_{v}} + \\frac{k_{rl}{\\left(S \\right)}}{\\nu_{l}}\\right)^{2}}$"
      ],
      "text/plain": [
       "(k_rv(S)/nu_v + k_rl(S)/nu_l)**(-2)"
      ]
     },
     "execution_count": 26,
     "metadata": {},
     "output_type": "execute_result"
    }
   ],
   "source": [
    "nu**2"
   ]
  },
  {
   "cell_type": "code",
   "execution_count": null,
   "metadata": {},
   "outputs": [],
   "source": []
  }
 ],
 "metadata": {
  "kernelspec": {
   "display_name": "base",
   "language": "python",
   "name": "python3"
  },
  "language_info": {
   "codemirror_mode": {
    "name": "ipython",
    "version": 3
   },
   "file_extension": ".py",
   "mimetype": "text/x-python",
   "name": "python",
   "nbconvert_exporter": "python",
   "pygments_lexer": "ipython3",
   "version": "3.10.9"
  },
  "orig_nbformat": 4
 },
 "nbformat": 4,
 "nbformat_minor": 2
}
