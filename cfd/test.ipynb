{
 "cells": [
  {
   "cell_type": "code",
   "execution_count": 2,
   "metadata": {},
   "outputs": [],
   "source": [
    "import numpy as np"
   ]
  },
  {
   "cell_type": "code",
   "execution_count": 3,
   "metadata": {},
   "outputs": [],
   "source": [
    "def TDMA(a,b,c,d,n):\n",
    "    def p(index):\n",
    "        if(index==1):\n",
    "            return -c(1)/a(1)\n",
    "        elif(index==n):\n",
    "            return 0\n",
    "        else:\n",
    "            return -c(index)/(a(index)+b(index)*p(index-1))\n",
    "        \n",
    "    def q(index):\n",
    "        if(index==1):\n",
    "            return d(1)/a(1)\n",
    "        else:\n",
    "            return (d(index)-b(index)*q(index-1))/(a(index)+b(index)*p(index-1))\n",
    "    \n",
    "    x = np.zeros(n)\n",
    "    x[n-1] = q(n)\n",
    "    for i in range(n-1,2,-1):\n",
    "        print(p(i),q(i))\n",
    "        x[i-1] = p(i) * x[i] + q(i)\n",
    "    x[0] = p(1)*x[1]+q(1)\n",
    "    return x"
   ]
  },
  {
   "cell_type": "code",
   "execution_count": 4,
   "metadata": {},
   "outputs": [
    {
     "ename": "",
     "evalue": "",
     "output_type": "error",
     "traceback": [
      "\u001b[1;31mCannot execute code, session has been disposed. Please try restarting the Kernel."
     ]
    },
    {
     "ename": "",
     "evalue": "",
     "output_type": "error",
     "traceback": [
      "\u001b[1;31mThe Kernel crashed while executing code in the the current cell or a previous cell. Please review the code in the cell(s) to identify a possible cause of the failure. Click <a href='https://aka.ms/vscodeJupyterKernelCrash'>here</a> for more info. View Jupyter <a href='command:jupyter.viewOutput'>log</a> for further details."
     ]
    }
   ],
   "source": [
    "def a(n):\n",
    "    return 2\n",
    "\n",
    "def b(n):\n",
    "    if(n==1):\n",
    "        return 0\n",
    "    else:\n",
    "        return -1\n",
    "    \n",
    "def c(n):\n",
    "    if(n==5):\n",
    "        return 0\n",
    "    else:\n",
    "        return -1\n",
    "    \n",
    "def d(n):\n",
    "    if(n==5):\n",
    "        return 6\n",
    "    else:\n",
    "        return 0\n",
    "    \n",
    "TDMA(a,b,c,d,5)"
   ]
  },
  {
   "cell_type": "code",
   "execution_count": 1,
   "metadata": {},
   "outputs": [],
   "source": [
    "import sympy"
   ]
  },
  {
   "cell_type": "code",
   "execution_count": 9,
   "metadata": {},
   "outputs": [],
   "source": [
    "x = sympy.symbols('x')\n",
    "a,b,c,d = sympy.symbols('a b c d')\n",
    "# 24.141e-6 * pow(10, 247.8 / (T - 140))\n",
    "f = a*b**(c/(x-d))\n",
    "\n",
    "df = sympy.diff(f,x)"
   ]
  },
  {
   "cell_type": "code",
   "execution_count": 11,
   "metadata": {},
   "outputs": [
    {
     "data": {
      "text/latex": [
       "$\\displaystyle - \\frac{c \\log{\\left(b \\right)}}{\\left(- d + x\\right)^{2}}$"
      ],
      "text/plain": [
       "-c*log(b)/(-d + x)**2"
      ]
     },
     "execution_count": 11,
     "metadata": {},
     "output_type": "execute_result"
    }
   ],
   "source": [
    "df/f"
   ]
  },
  {
   "cell_type": "code",
   "execution_count": 18,
   "metadata": {},
   "outputs": [],
   "source": [
    "T, P = sympy.symbols('T P')\n",
    "\n",
    "mu_l = sympy.Function('mu_l')(T,P)\n",
    "rho_l = sympy.Function('rho_l')(T,P)\n",
    "\n",
    "nu_l = mu_l/rho_l\n",
    "dnu_l = sympy.diff(nu_l,T)"
   ]
  },
  {
   "cell_type": "code",
   "execution_count": 21,
   "metadata": {},
   "outputs": [
    {
     "data": {
      "text/latex": [
       "$\\displaystyle - \\frac{\\mu_{l}{\\left(T,P \\right)} \\frac{\\partial}{\\partial T} \\rho_{l}{\\left(T,P \\right)}}{\\rho_{l}^{2}{\\left(T,P \\right)}} + \\frac{\\frac{\\partial}{\\partial T} \\mu_{l}{\\left(T,P \\right)}}{\\rho_{l}{\\left(T,P \\right)}}$"
      ],
      "text/plain": [
       "-mu_l(T, P)*Derivative(rho_l(T, P), T)/rho_l(T, P)**2 + Derivative(mu_l(T, P), T)/rho_l(T, P)"
      ]
     },
     "execution_count": 21,
     "metadata": {},
     "output_type": "execute_result"
    }
   ],
   "source": [
    "dnu_l"
   ]
  },
  {
   "cell_type": "code",
   "execution_count": 24,
   "metadata": {},
   "outputs": [],
   "source": [
    "nu_l,nu_v,S = sympy.symbols('nu_l nu_v S')\n",
    "k_rl = sympy.Function('k_rl')(S)\n",
    "k_rv = sympy.Function('k_rv')(S)\n",
    "\n",
    "nu = 1 / (k_rl/nu_l + k_rv/nu_v)\n",
    "dnu = sympy.diff(nu,S)"
   ]
  },
  {
   "cell_type": "code",
   "execution_count": 25,
   "metadata": {},
   "outputs": [
    {
     "data": {
      "text/latex": [
       "$\\displaystyle \\frac{- \\frac{\\frac{d}{d S} k_{rv}{\\left(S \\right)}}{\\nu_{v}} - \\frac{\\frac{d}{d S} k_{rl}{\\left(S \\right)}}{\\nu_{l}}}{\\left(\\frac{k_{rv}{\\left(S \\right)}}{\\nu_{v}} + \\frac{k_{rl}{\\left(S \\right)}}{\\nu_{l}}\\right)^{2}}$"
      ],
      "text/plain": [
       "(-Derivative(k_rv(S), S)/nu_v - Derivative(k_rl(S), S)/nu_l)/(k_rv(S)/nu_v + k_rl(S)/nu_l)**2"
      ]
     },
     "execution_count": 25,
     "metadata": {},
     "output_type": "execute_result"
    }
   ],
   "source": [
    "dnu"
   ]
  },
  {
   "cell_type": "code",
   "execution_count": 26,
   "metadata": {},
   "outputs": [
    {
     "data": {
      "text/latex": [
       "$\\displaystyle \\frac{1}{\\left(\\frac{k_{rv}{\\left(S \\right)}}{\\nu_{v}} + \\frac{k_{rl}{\\left(S \\right)}}{\\nu_{l}}\\right)^{2}}$"
      ],
      "text/plain": [
       "(k_rv(S)/nu_v + k_rl(S)/nu_l)**(-2)"
      ]
     },
     "execution_count": 26,
     "metadata": {},
     "output_type": "execute_result"
    }
   ],
   "source": [
    "nu**2"
   ]
  },
  {
   "cell_type": "code",
   "execution_count": 1,
   "metadata": {},
   "outputs": [],
   "source": [
    "import numpy as np"
   ]
  },
  {
   "cell_type": "code",
   "execution_count": 15,
   "metadata": {},
   "outputs": [],
   "source": [
    "def lg(phi,x):\n",
    "    d = np.array([[x[0]-x[1]],\n",
    "                  [x[2]-x[1]]])\n",
    "    dt = np.transpose(d)\n",
    "    g = np.dot(dt,d)\n",
    "    dphi = np.array([[phi[0]-phi[1]],\n",
    "                     [phi[2]-phi[1]]])\n",
    "    return np.dot(dt,dphi)/g"
   ]
  },
  {
   "cell_type": "code",
   "execution_count": 25,
   "metadata": {},
   "outputs": [
    {
     "data": {
      "text/plain": [
       "(-0.35017548837401463, -0.4161468365471424)"
      ]
     },
     "execution_count": 25,
     "metadata": {},
     "output_type": "execute_result"
    }
   ],
   "source": [
    "def f(x):\n",
    "    return np.sin(x)\n",
    "\n",
    "def df(x):\n",
    "    return np.cos(x)\n",
    "\n",
    "x = np.array([1,2,3])\n",
    "phi = f(x)\n",
    "\n",
    "lg(phi,x)[0][0],df(x[1])"
   ]
  },
  {
   "cell_type": "code",
   "execution_count": null,
   "metadata": {},
   "outputs": [],
   "source": [
    "D = 100e-6\n",
    "e = 0.3\n",
    "K = 2.72e11\n",
    "\n",
    "mass_in = 0.001\n",
    "q_in = 1e5\n",
    "\n",
    "alpha_sf = 6*(1-e)/D\n",
    "\n",
    "def rho_l(T,P):\n",
    "  return 998.0\n",
    "def drho_ldT(T,P):\n",
    "  return 0\n",
    "def mu_l(T,P):\n",
    "  return 24.141e-6 * 10**(247.8 / (T - 140))\n",
    "def dmu_ldT(T,P):\n",
    "  return -mu_l(T,P)*247.8/(T-140)**2*np.log(10)\n",
    "def nu_l(T,P):\n",
    "  return mu_l(T,P)/rho_l(T,P)\n",
    "def dnu_ldT(T,P):\n",
    "  return (dmu_ldT(T,P)*rho_l(T,P)-mu_l(T,P)*drho_ldT(T,P))/rho_l(T,P)**2\n",
    "def k_l(T,P):\n",
    "  return 0.68\n",
    "def dk_ldT(T,P):\n",
    "  return 0\n",
    "def cp_l(T,P):\n",
    "  return 4182.0\n",
    "def dcp_ldT(T,P):\n",
    "  return 0\n",
    "\n",
    "def rho_v(T,P):\n",
    "  R, M = 8.314, 18\n",
    "  return P/(T*R/M*1000)\n",
    "def drho_vdT(T,P):\n",
    "  return -rho_v(T,P)/T\n",
    "def mu_v(T,P):\n",
    "  a0 = -2.77567e-6\n",
    "  a1 = 0.04035e-6\n",
    "  return a0+a1*T\n",
    "def dmu_vdT(T,P):\n",
    "  return 0.04035e-6\n",
    "def nu_v(T,P):\n",
    "  return mu_v(T,P)/rho_v(T,P)\n",
    "def dnu_vdT(T,P):\n",
    "  return (dmu_vdT(T,P)*rho_v(T,P)-mu_v(T,P)*drho_vdT(T,P))/rho_v(T,P)**2\n",
    "def k_v(T,P):\n",
    "  a0 = -21.994433e-3\n",
    "  a1 = 0.11842e-3\n",
    "  return a0 + a1 * T\n",
    "def dk_vdT(T,P):\n",
    "  return 0.11842e-3\n",
    "def cp_v(T,P):\n",
    "  return 2030.0\n",
    "def dcp_vdT(T,P):\n",
    "  return 0\n",
    "\n",
    "def rho_s(T):\n",
    "  return 8.4e3\n",
    "def k_s(T):\n",
    "  return 21.7\n",
    "def cp_s(T):\n",
    "  return 625\n",
    "\n",
    "def T_sat(P):\n",
    "  p=P/1e6\n",
    "  a0 = 429.69474687605754\n",
    "  a1 = 11.983108526790891\n",
    "  a2 = -0.2940193901122584\n",
    "  a3 = 25.197563642164386\n",
    "  return a0 + a1 * p + a2 * p**2 + a3 * np.log(p)\n",
    "def dT_satdP(P):\n",
    "  p=P/1e6\n",
    "  a1 = 11.983108526790891\n",
    "  a2 = -0.2940193901122584\n",
    "  a3 = 25.197563642164386\n",
    "  return (a1 + 2 * a2 * p + a3 / p) / 1e6\n",
    "def h_fg(P):\n",
    "\tT = T_sat(P)\n",
    "\ta0 = -2511.1589762597114\n",
    "\ta1 = 1.790037469059945\n",
    "\ta2 = 0.0028969464729942194\n",
    "\ta3 = 222.03437607975306\n",
    "\treturn a0 + a1 * T + a2 * T**2 + a3 * np.sqrt(650 - T)\n",
    "def h_l_sat(P):\n",
    "  T=T_sat(P)\n",
    "  return cp_l(T,P)*T\n",
    "def h_v_sat(P):\n",
    "  return h_l_sat(P)+h_fg(P)\n",
    "\n",
    "def k_rl(S):\n",
    "  return S**3\n",
    "def dk_rldS(S):\n",
    "  return 3*S**2\n",
    "def k_rv(S):\n",
    "  return (1-S)**3\n",
    "def dk_rvdS(S):\n",
    "  return -3*(1-S)**2\n",
    "def rho(h,P):\n",
    "  h_s1 = h_l_sat(P)\n",
    "  h_s0 = h_v_sat(P)\n",
    "  T = h_to_T(h,P)\n",
    "  S = h_to_S(h,P)\n",
    "  if(h<=h_s1):\n",
    "    return rho_l(T,P)\n",
    "  elif(h>=h_s0):\n",
    "    return rho_v(T,P)\n",
    "  else:\n",
    "      return rho_l(T,P)*S+rho_v(T,P)*(1-S)\n",
    "def drhodS(h,P):\n",
    "  h_s1 = h_l_sat(P)\n",
    "  h_s0 = h_v_sat(P)\n",
    "  T = h_to_T(h,P)\n",
    "  S = h_to_S(h,P)\n",
    "  if(h<=h_s1) or (h>=h_s0):\n",
    "    return 0\n",
    "  else:\n",
    "    return rho_l(T,P) - rho_v(T,P)\n",
    "def nu(h,P):\n",
    "  h_s1 = h_l_sat(P)\n",
    "  h_s0 = h_v_sat(P)\n",
    "  T = h_to_T(h,P)\n",
    "  S = h_to_S(h,P)\n",
    "  if(h<=h_s1):\n",
    "    return nu_l(T,P)\n",
    "  elif(h>=h_s0):\n",
    "    return nu_v(T,P)\n",
    "  else:\n",
    "    return 1/(k_rl(S)/nu_l(T,P)+k_rv(S)/nu_v(T,P))\n",
    "def dnudS(h,P):\n",
    "  h_s1 = h_l_sat(P)\n",
    "  h_s0 = h_v_sat(P)\n",
    "  T = h_to_T(h,P)\n",
    "  S = h_to_S(h,P)\n",
    "  if(h<=h_s1) or (h>=h_s0):\n",
    "    return 0\n",
    "  else:\n",
    "    return -nu(h,P)**2*(dk_rldS(S)/nu_l(T,P)+dk_rvdS(S)/nu_v(T,P))\n",
    "def mu(h,P):\n",
    "  h_s1 = h_l_sat(P)\n",
    "  h_s0 = h_v_sat(P)\n",
    "  T = h_to_T(h,P)\n",
    "  S = h_to_S(h,P)\n",
    "  if(h<=h_s1):\n",
    "    return mu_l(T,P)\n",
    "  elif(h>=h_s0):\n",
    "    return mu_v(T,P)\n",
    "  else:\n",
    "    return nu(T,P,S)*rho(T,P,S)\n",
    "def dmudS(h,P):\n",
    "  h_s1 = h_l_sat(P)\n",
    "  h_s0 = h_v_sat(P)\n",
    "  T = h_to_T(h,P)\n",
    "  S = h_to_S(h,P)\n",
    "  if(h<=h_s1) or (h>=h_s0):\n",
    "    return 0\n",
    "  else:\n",
    "    return drhodS(h,P)*nu(h,P)+rho(h,P)*dnudS(h,P)\n",
    "def cp(h,P):\n",
    "  h_s1 = h_l_sat(P)\n",
    "  h_s0 = h_v_sat(P)\n",
    "  T = h_to_T(h,P)\n",
    "  S = h_to_S(h,P)\n",
    "  if(h<=h_s1):\n",
    "    return cp_l(T,P)\n",
    "  elif(h>=h_s0):\n",
    "    return cp_v(T,P)\n",
    "  else:\n",
    "    return (S*rho_l(T,P)*cp_l(T,P)+(1-S)*rho_v(T,P)*cp_v(T,P))/rho(h,P)\n",
    "def dcpdS(h,P):\n",
    "  h_s1 = h_l_sat(P)\n",
    "  h_s0 = h_v_sat(P)\n",
    "  T = h_to_T(h,P)\n",
    "  S = h_to_S(h,P)\n",
    "  if(h<=h_s1) or (h>=h_s0):\n",
    "    return 0\n",
    "  else:\n",
    "    return (rho_l(T,P)*cp_l(T,P)-rho_v(T,P)*cp_v(T,P)-cp(h,P)*drhodS(h,P)) / rho(h,P)\n",
    "def k(h,P):\n",
    "  h_s1 = h_l_sat(P)\n",
    "  h_s0 = h_v_sat(P)\n",
    "  T = h_to_T(h,P)\n",
    "  S = h_to_S(h,P)\n",
    "  if(h<=h_s1):\n",
    "    return k_l(T,P)\n",
    "  elif(h>=h_s0):\n",
    "    return k_v(T,P)\n",
    "  else:\n",
    "    return S*k_l(T,P)+(1-S)*k_v(T,P)\n",
    "def dkdS(h,P):\n",
    "  h_s1 = h_l_sat(P)\n",
    "  h_s0 = h_v_sat(P)\n",
    "  T = h_to_T(h,P)\n",
    "  S = h_to_S(h,P)\n",
    "  if(h<=h_s1) or (k>=h_s0):\n",
    "    return 0\n",
    "  else:\n",
    "    return k_l(T,P)-k_v(T,P)\n",
    "  \n",
    "def lam(h,P):\n",
    "  T = h_to_T(h,P)\n",
    "  S = h_to_S(h,P)\n",
    "  return k_rl(S)*nu(h,P)/nu_l(T,P)\n",
    "def dlamdS(h,P):\n",
    "  return \n",
    "\n",
    "def h_to_T(h,P):\n",
    "  h_m_s1=h_l_sat(P)\n",
    "  h_m_s0=h_v_sat(P)\n",
    "  T=T_sat(P)\n",
    "  if(h<h_m_s1):\n",
    "    return h/cp_l(T,P)\n",
    "  elif(h>h_m_s0):\n",
    "    return T+(h-h_m_s0)/cp_v(T,P)\n",
    "  else:\n",
    "    return T\n",
    "def h_to_S(h,P):\n",
    "  h_m_s1=h_l_sat(P)\n",
    "  h_m_s0=h_v_sat(P)\n",
    "  T=T_sat(P)\n",
    "  if(h<=h_m_s1):\n",
    "    return 1\n",
    "  elif(h>=h_m_s0):\n",
    "    return 0\n",
    "  else:\n",
    "    nu_r,h_r = nu_v(T,P)/nu_l(T,P), h_fg(P)/(h_m_s0-h)\n",
    "    return 1/((nu_r*(h_r-1))**(0.33)+1)\n",
    "  \n",
    "def Re_l(T,P,v):\n",
    "  return v*D/nu_l(T,P)\n",
    "def Re_v(T,P,v):\n",
    "  return v*D/nu_v(T,P)\n",
    "def Pr_l(T,P):\n",
    "  return mu_l(T,P)*cp_l(T,P)/k_l(T,P)\n",
    "def Pr_v(T,P):\n",
    "  return mu_v(T,P)*cp_v(T,P)/k_v(T,P)\n",
    "def Nu_l(T,P,v):\n",
    "  return 2+1.1*Pr_l(T,P)**0.33*Re_l(T,P,v)**0.6\n",
    "def Nu_v(T,P,v):\n",
    "  return 2+1.1*Pr_v(T,P)**0.33*Re_v(T,P,v)**0.6\n",
    "def h_sl(T,P,v):\n",
    "  return Nu_l(T,P,v)*k_l(T,P)/D\n",
    "def h_sv(T,P,v):\n",
    "  return Nu_v(T,P,v)*k_v(T,P)/D\n",
    "def qsf_l(T,P,v,T_s):\n",
    "  return h_sl(T,P,v)*alpha_sf*(T_s-T)\n",
    "def qsf_v(T,P,v,T_s):\n",
    "  return h_sv(T,P,v)*alpha_sf*(T_s-T)\n",
    "def q_boil(T,P,S,T_s):\n",
    "  return S*alpha_sf*mu(T,P,S)*h_fg(P)*np.sqrt(9.81*(rho_l(T,P)-rho_v(T,P))/0.072)*(cp_l(T,P)*(T_s - T_sat(P))/0.006/h_fg(P))**3*Pr_l(T,P)**(-1.7/0.33)\n",
    "def qsf(h,P,v,T_s):\n",
    "  h_m_s0 = h_v_sat(P)\n",
    "  h_m_s1=h_l_sat(P)\n",
    "  T = h_to_T(h,P)\n",
    "  if(h<=h_m_s1):\n",
    "    return qsf_l(T,P,v,T_s)\n",
    "  elif(h>=h_m_s0):\n",
    "    return qsf_v(T,P,v,T_s)\n",
    "  else:\n",
    "    s = h_to_S(h,P)\n",
    "    return q_boil(T,P,s,T_s)+(1-s)*h_sv(T,P,v)*alpha_sf*(T_s-T)"
   ]
  },
  {
   "cell_type": "code",
   "execution_count": null,
   "metadata": {},
   "outputs": [],
   "source": [
    "n_mesh = 1000\n",
    "x = np.linspace(-0.004,0.004,n_mesh)\n",
    "cell_centroid = (x[1:]-x[:-1])/2\n",
    "dx = x[1:]-x[:-1]\n",
    "\n",
    "u = np.zeros_like(cell_centroid)\n",
    "p = np.zeros_like(u)\n",
    "h = np.zeros_like(u)\n",
    "T_s = np.zeros_like(u)"
   ]
  },
  {
   "cell_type": "code",
   "execution_count": null,
   "metadata": {},
   "outputs": [],
   "source": []
  }
 ],
 "metadata": {
  "kernelspec": {
   "display_name": "base",
   "language": "python",
   "name": "python3"
  },
  "language_info": {
   "codemirror_mode": {
    "name": "ipython",
    "version": 3
   },
   "file_extension": ".py",
   "mimetype": "text/x-python",
   "name": "python",
   "nbconvert_exporter": "python",
   "pygments_lexer": "ipython3",
   "version": "3.10.9"
  },
  "orig_nbformat": 4
 },
 "nbformat": 4,
 "nbformat_minor": 2
}
