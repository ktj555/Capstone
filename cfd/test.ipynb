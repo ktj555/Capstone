{
 "cells": [
  {
   "cell_type": "code",
   "execution_count": 2,
   "metadata": {},
   "outputs": [],
   "source": [
    "import numpy as np"
   ]
  },
  {
   "cell_type": "code",
   "execution_count": 3,
   "metadata": {},
   "outputs": [],
   "source": [
    "def TDMA(a,b,c,d,n):\n",
    "    def p(index):\n",
    "        if(index==1):\n",
    "            return -c(1)/a(1)\n",
    "        elif(index==n):\n",
    "            return 0\n",
    "        else:\n",
    "            return -c(index)/(a(index)+b(index)*p(index-1))\n",
    "        \n",
    "    def q(index):\n",
    "        if(index==1):\n",
    "            return d(1)/a(1)\n",
    "        else:\n",
    "            return (d(index)-b(index)*q(index-1))/(a(index)+b(index)*p(index-1))\n",
    "    \n",
    "    x = np.zeros(n)\n",
    "    x[n-1] = q(n)\n",
    "    for i in range(n-1,2,-1):\n",
    "        print(p(i),q(i))\n",
    "        x[i-1] = p(i) * x[i] + q(i)\n",
    "    x[0] = p(1)*x[1]+q(1)\n",
    "    return x"
   ]
  },
  {
   "cell_type": "code",
   "execution_count": 4,
   "metadata": {},
   "outputs": [
    {
     "ename": "",
     "evalue": "",
     "output_type": "error",
     "traceback": [
      "\u001b[1;31mCannot execute code, session has been disposed. Please try restarting the Kernel."
     ]
    },
    {
     "ename": "",
     "evalue": "",
     "output_type": "error",
     "traceback": [
      "\u001b[1;31mThe Kernel crashed while executing code in the the current cell or a previous cell. Please review the code in the cell(s) to identify a possible cause of the failure. Click <a href='https://aka.ms/vscodeJupyterKernelCrash'>here</a> for more info. View Jupyter <a href='command:jupyter.viewOutput'>log</a> for further details."
     ]
    }
   ],
   "source": [
    "def a(n):\n",
    "    return 2\n",
    "\n",
    "def b(n):\n",
    "    if(n==1):\n",
    "        return 0\n",
    "    else:\n",
    "        return -1\n",
    "    \n",
    "def c(n):\n",
    "    if(n==5):\n",
    "        return 0\n",
    "    else:\n",
    "        return -1\n",
    "    \n",
    "def d(n):\n",
    "    if(n==5):\n",
    "        return 6\n",
    "    else:\n",
    "        return 0\n",
    "    \n",
    "TDMA(a,b,c,d,5)"
   ]
  },
  {
   "cell_type": "code",
   "execution_count": null,
   "metadata": {},
   "outputs": [],
   "source": []
  }
 ],
 "metadata": {
  "kernelspec": {
   "display_name": "base",
   "language": "python",
   "name": "python3"
  },
  "language_info": {
   "codemirror_mode": {
    "name": "ipython",
    "version": 3
   },
   "file_extension": ".py",
   "mimetype": "text/x-python",
   "name": "python",
   "nbconvert_exporter": "python",
   "pygments_lexer": "ipython3",
   "version": "3.10.9"
  },
  "orig_nbformat": 4
 },
 "nbformat": 4,
 "nbformat_minor": 2
}
